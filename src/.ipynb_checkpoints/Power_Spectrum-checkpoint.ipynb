{
 "cells": [
  {
   "cell_type": "code",
   "execution_count": 1,
   "metadata": {},
   "outputs": [],
   "source": [
    "import numpy as np;\n",
    "from visualize import plot_2, plot_3, plot_3d, plot_6;\n",
    "from load_dataset import load_mnist_test, load_mnist_train;\n",
    "from conduct_svm import svm;\n",
    "from conduct_csc import nn_csc, csc, par_csc, par_nn_csc;\n",
    "from pickless import output;\n",
    "from pooling import forward;\n",
    "from sporco import plot, util;\n",
    "from sporco.admm import cbpdn\n",
    "from conduct_svm import *;"
   ]
  },
  {
   "cell_type": "code",
   "execution_count": 2,
   "metadata": {},
   "outputs": [],
   "source": [
    "def make_option():\n",
    "    opt = {};\n",
    "    # 訓練画像の枚数\n",
    "    opt['train_amount'] = 5000;\n",
    "    # テスト画像の枚数\n",
    "    opt['test_amount'] = 100;\n",
    "    # フィルタのサイズ\n",
    "    opt['d_size'] = [(5, 5, 1, 1, 6), (5, 5, 6, 16)];\n",
    "    # スパースの尺度\n",
    "    opt['lmbda'] = [0.05, 0.025];\n",
    "    # 繰り返し回数\n",
    "    opt['Iter'] = [400, 400];\n",
    "    # NMFによる錐制約部分空間法における基底の数\n",
    "    opt['d_num'] = 16;\n",
    "    # PCAによる包括凸錐による部分空間法における累積寄与率のリスト・パラメータ\n",
    "    opt[\"ratios\"] = [0.1, 0.2, 0.3, 0.4, 0.5, 0.6, 0.7, 0.8, 0.9];\n",
    "    opt[\"params\"] = [0.5, 1.0, 1.5, 2.0, 2.5, 3.0, 3.5, 4.0, 4.5];\n",
    "    return opt;"
   ]
  },
  {
   "cell_type": "code",
   "execution_count": 3,
   "metadata": {},
   "outputs": [
    {
     "name": "stderr",
     "output_type": "stream",
     "text": [
      "/home/kuroki-lab/anaconda3/envs/hirakawa/lib/python3.7/site-packages/torchvision/datasets/mnist.py:53: UserWarning: train_data has been renamed data\n",
      "  warnings.warn(\"train_data has been renamed data\")\n",
      "/home/kuroki-lab/anaconda3/envs/hirakawa/lib/python3.7/site-packages/torchvision/datasets/mnist.py:43: UserWarning: train_labels has been renamed targets\n",
      "  warnings.warn(\"train_labels has been renamed targets\")\n"
     ]
    },
    {
     "name": "stdout",
     "output_type": "stream",
     "text": [
      "load_mnist_train: return following shape arrays\n",
      "imgs: (5000, 32, 32)\n",
      "labels: (5000,)\n",
      "load_mnist_test: return following shape arrays\n",
      "imgs: (100, 32, 32)\n",
      "labels: (100,)\n"
     ]
    },
    {
     "name": "stderr",
     "output_type": "stream",
     "text": [
      "/home/kuroki-lab/anaconda3/envs/hirakawa/lib/python3.7/site-packages/torchvision/datasets/mnist.py:58: UserWarning: test_data has been renamed data\n",
      "  warnings.warn(\"test_data has been renamed data\")\n",
      "/home/kuroki-lab/anaconda3/envs/hirakawa/lib/python3.7/site-packages/torchvision/datasets/mnist.py:48: UserWarning: test_labels has been renamed targets\n",
      "  warnings.warn(\"test_labels has been renamed targets\")\n"
     ]
    }
   ],
   "source": [
    "opt = make_option();\n",
    "train_data, train_label = load_mnist_train(opt[\"train_amount\"]);\n",
    "test_data, test_label = load_mnist_test(opt[\"test_amount\"]);\n",
    "train_data = np.expand_dims(train_data.transpose(1,2,0), 2);\n",
    "test_data = np.expand_dims(test_data.transpose(1,2,0), 2);\n",
    "test_data = np.expand_dims(test_data, -1);"
   ]
  },
  {
   "cell_type": "code",
   "execution_count": null,
   "metadata": {},
   "outputs": [
    {
     "name": "stdout",
     "output_type": "stream",
     "text": [
      "### 学習用データセットで畳み込み辞書学習\n",
      "第１層目:フォワードパスの計算中...\n",
      "Itn   Fnc       DFid      ℓ1        Cnstr     r_X       s_X       ρ_X       r_D       s_D       ρ_D     \n",
      "--------------------------------------------------------------------------------------------------------\n",
      "   0  1.12e+05  8.84e+04  4.64e+05  3.25e-16  7.54e-01  8.30e-01  3.00e+00  2.46e-01  3.30e-01  1.00e+01\n",
      "   1  1.26e+05  9.41e+04  6.42e+05  2.04e-16  2.98e-01  9.67e-01  3.00e+00  1.76e-01  2.91e-01  1.00e+01\n"
     ]
    }
   ],
   "source": [
    "# 学習用データセットで辞書学習\n",
    "print(\"### 学習用データセットで畳み込み辞書学習\");\n",
    "\n",
    "print(\"第１層目:フォワードパスの計算中...\");\n",
    "d0, D0, coef0 = nn_csc(input_ = train_data, d_size = opt['d_size'][0], lmbda = opt['lmbda'][0], Iter = opt['Iter'][0], visualize = True);\n",
    "\n",
    "\"\"\"\n",
    "print(\"第１層目:プーリング中...\");\n",
    "coef0 = forward(coef0.squeeze().transpose(2,3,0,1), 2, 2, 2).transpose(1,2,3,0);\n",
    "\n",
    "print(\"第２層目:フォワードパスの計算中...\");\n",
    "d1, D1, coef1 = nn_csc(input_ = coef0, d_size = opt['d_size'][1], lmbda = opt['lmbda'][1], Iter = opt['Iter'][1], visualize = False);\n",
    "print(\"第２層目:プーリング中...\");\n",
    "coef2 = forward(coef1.squeeze().transpose(2,3,0,1), 2, 2, 2);\n",
    "# output(opt, D0, coef0, D1, coef1);\n",
    "\"\"\""
   ]
  },
  {
   "cell_type": "code",
   "execution_count": null,
   "metadata": {},
   "outputs": [],
   "source": []
  }
 ],
 "metadata": {
  "kernelspec": {
   "display_name": "Python 3",
   "language": "python",
   "name": "python3"
  },
  "language_info": {
   "codemirror_mode": {
    "name": "ipython",
    "version": 3
   },
   "file_extension": ".py",
   "mimetype": "text/x-python",
   "name": "python",
   "nbconvert_exporter": "python",
   "pygments_lexer": "ipython3",
   "version": "3.7.5"
  }
 },
 "nbformat": 4,
 "nbformat_minor": 4
}
