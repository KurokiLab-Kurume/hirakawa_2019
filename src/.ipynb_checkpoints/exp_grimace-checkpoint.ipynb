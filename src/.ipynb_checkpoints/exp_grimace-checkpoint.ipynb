{
 "cells": [
  {
   "cell_type": "code",
   "execution_count": 1,
   "metadata": {},
   "outputs": [],
   "source": [
    "import numpy as np;\n",
    "from visualize import plot_2, plot_3, plot_3d, plot_6;\n",
    "from load_dataset import load_grimace;\n",
    "from conduct_svm import svm;\n",
    "from conduct_csc import nn_csc, csc, par_csc, par_nn_csc;\n",
    "from pickless import output;\n",
    "from pooling import forward;\n",
    "from sporco import plot, util;\n",
    "from sporco.admm import cbpdn\n",
    "from conduct_svm import *;"
   ]
  },
  {
   "cell_type": "code",
   "execution_count": 2,
   "metadata": {},
   "outputs": [],
   "source": [
    "def make_option():\n",
    "    opt = {};\n",
    "    # 画像のサイズ\n",
    "    opt[\"img_size\"] = [32, 32];\n",
    "    # 訓練画像の枚数\n",
    "    opt['train_amount'] = 3;\n",
    "    # テスト画像の枚数\n",
    "    opt['test_amount'] = 17;\n",
    "    # フィルタのサイズ\n",
    "    opt['d_size'] = [(5, 5, 1, 1, 6), (5, 5, 6, 16)];\n",
    "    # スパースの尺度\n",
    "    opt['lmbda'] = [0.05, 0.025];\n",
    "    # 繰り返し回数\n",
    "    opt['Iter'] = [400, 400];\n",
    "    # NMFによる錐制約部分空間法における基底の数\n",
    "    opt['d_num'] = 16;\n",
    "    # PCAによる包括凸錐による部分空間法における累積寄与率のリスト・パラメータ\n",
    "    opt[\"ratios\"] = [0.1, 0.2, 0.3, 0.4, 0.5, 0.6, 0.7, 0.8, 0.9];\n",
    "    opt[\"params\"] = [0.5, 1.0, 1.5, 2.0, 2.5, 3.0, 3.5, 4.0, 4.5];\n",
    "    return opt;"
   ]
  },
  {
   "cell_type": "code",
   "execution_count": 3,
   "metadata": {},
   "outputs": [],
   "source": [
    "opt = make_option();\n",
    "imgs, labels = load_grimace(opt[\"img_size\"]);"
   ]
  },
  {
   "cell_type": "code",
   "execution_count": 7,
   "metadata": {},
   "outputs": [
    {
     "data": {
      "text/plain": [
       "(32, 32, 3, 360)"
      ]
     },
     "execution_count": 7,
     "metadata": {},
     "output_type": "execute_result"
    }
   ],
   "source": [
    "imgs.shape"
   ]
  },
  {
   "cell_type": "code",
   "execution_count": null,
   "metadata": {},
   "outputs": [],
   "source": []
  }
 ],
 "metadata": {
  "kernelspec": {
   "display_name": "Python 3",
   "language": "python",
   "name": "python3"
  },
  "language_info": {
   "codemirror_mode": {
    "name": "ipython",
    "version": 3
   },
   "file_extension": ".py",
   "mimetype": "text/x-python",
   "name": "python",
   "nbconvert_exporter": "python",
   "pygments_lexer": "ipython3",
   "version": "3.7.5"
  }
 },
 "nbformat": 4,
 "nbformat_minor": 4
}
